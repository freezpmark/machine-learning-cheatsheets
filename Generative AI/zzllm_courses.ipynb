{
 "cells": [
  {
   "cell_type": "code",
   "execution_count": 1,
   "metadata": {},
   "outputs": [],
   "source": [
    "import openai\n",
    "import os\n",
    "\n",
    "from dotenv import load_dotenv\n",
    "load_dotenv()\n",
    "openai.api_key  = os.getenv('OPENAI_API_KEY')  # this is not needed for langchain?"
   ]
  },
  {
   "cell_type": "code",
   "execution_count": 2,
   "metadata": {},
   "outputs": [
    {
     "name": "stdout",
     "output_type": "stream",
     "text": [
      "In a garden so bright, a carrot grew,\n",
      "With a smile so wide, and a vibrant hue.\n",
      "It danced in the breeze, so full of glee,\n",
      "A happy carrot, as happy as can be!\n",
      "\n",
      "With roots in the earth, it reached for the sky,\n",
      "Its leafy greens waving, saying \"hi!\"\n",
      "It shared its joy with all who passed by,\n",
      "A happy carrot, bringing smiles to the eye!\n",
      "\n",
      "So let us remember, in life's daily grind,\n",
      "To be like the carrot, with happiness entwined.\n",
      "Spread joy and laughter, wherever we go,\n",
      "Just like the happy carrot, all in a row!\n",
      "{'prompt_tokens': 37, 'completion_tokens': 128, 'total_tokens': 165}\n"
     ]
    }
   ],
   "source": [
    "# prompting\n",
    "def get_completion_and_token_count(\n",
    "    messages, model=\"gpt-3.5-turbo\", temperature=0, max_tokens=500\n",
    "):\n",
    "    # messages = [{\"role\": \"user\", \"content\": prompt}]\n",
    "    response = openai.ChatCompletion.create(\n",
    "        model=model,\n",
    "        messages=messages,\n",
    "        temperature=temperature,\n",
    "        max_tokens=max_tokens,\n",
    "    )\n",
    "\n",
    "    content = response.choices[0].message[\"content\"]\n",
    "\n",
    "    token_dict = {\n",
    "        \"prompt_tokens\": response[\"usage\"][\"prompt_tokens\"],\n",
    "        \"completion_tokens\": response[\"usage\"][\"completion_tokens\"],\n",
    "        \"total_tokens\": response[\"usage\"][\"total_tokens\"],\n",
    "    }\n",
    "\n",
    "    return content, token_dict\n",
    "\n",
    "\n",
    "messages = [\n",
    "    {\n",
    "        \"role\": \"system\",\n",
    "        \"content\": \"\"\"You are an assistant who responds in the style of Dr Seuss.\"\"\",\n",
    "    },\n",
    "    {\n",
    "        \"role\": \"user\",\n",
    "        \"content\": \"\"\"write me a 4 sentence long poem about a happy carrot\"\"\",\n",
    "    },\n",
    "]\n",
    "response, token_dict = get_completion_and_token_count(messages)\n",
    "\n",
    "print(response)\n",
    "print(token_dict)"
   ]
  },
  {
   "cell_type": "code",
   "execution_count": 3,
   "metadata": {},
   "outputs": [
    {
     "name": "stdout",
     "output_type": "stream",
     "text": [
      "{\n",
      "  \"flagged\": false,\n",
      "  \"categories\": {\n",
      "    \"sexual\": false,\n",
      "    \"hate\": false,\n",
      "    \"harassment\": false,\n",
      "    \"self-harm\": false,\n",
      "    \"sexual/minors\": false,\n",
      "    \"hate/threatening\": false,\n",
      "    \"violence/graphic\": false,\n",
      "    \"self-harm/intent\": false,\n",
      "    \"self-harm/instructions\": false,\n",
      "    \"harassment/threatening\": false,\n",
      "    \"violence\": false\n",
      "  },\n",
      "  \"category_scores\": {\n",
      "    \"sexual\": 8.910085e-06,\n",
      "    \"hate\": 0.00013615482,\n",
      "    \"harassment\": 0.0023860661,\n",
      "    \"self-harm\": 7.5545418e-06,\n",
      "    \"sexual/minors\": 2.20487e-07,\n",
      "    \"hate/threatening\": 7.746158e-06,\n",
      "    \"violence/graphic\": 0.00012008196,\n",
      "    \"self-harm/intent\": 5.9765495e-07,\n",
      "    \"self-harm/instructions\": 3.4945369e-09,\n",
      "    \"harassment/threatening\": 0.0015225811,\n",
      "    \"violence\": 0.34292138\n",
      "  }\n",
      "}\n"
     ]
    }
   ],
   "source": [
    "# moderation\n",
    "response = openai.Moderation.create(\n",
    "    input=\"\"\"\n",
    "Here's the plan.  We get the warhead, \n",
    "and we hold the world ransom...\n",
    "...FOR ONE MILLION DOLLARS!\n",
    "\"\"\"\n",
    ")\n",
    "moderation_output = response[\"results\"][0]\n",
    "print(moderation_output)"
   ]
  },
  {
   "cell_type": "code",
   "execution_count": null,
   "metadata": {},
   "outputs": [],
   "source": [
    "# prompting with LangChain\n",
    "from langchain.chat_models import ChatOpenAI\n",
    "from langchain.prompts import ChatPromptTemplate\n",
    "\n",
    "template_string = \"\"\"Translate the text \\\n",
    "that is delimited by triple backticks \\\n",
    "into a style that is {style}. \\\n",
    "text: ```{text}```\n",
    "\"\"\"\n",
    "customer_style = \"\"\"American English \\\n",
    "in a calm and respectful tone\n",
    "\"\"\"\n",
    "customer_email = \"\"\"\n",
    "Arrr, I be fuming that me blender lid \\\n",
    "flew off and splattered me kitchen walls \\\n",
    "with smoothie! And to make matters worse, \\\n",
    "the warranty don't cover the cost of \\\n",
    "cleaning up me kitchen. I need yer help \\\n",
    "right now, matey!\n",
    "\"\"\""
   ]
  },
  {
   "cell_type": "code",
   "execution_count": null,
   "metadata": {},
   "outputs": [],
   "source": [
    "chat = ChatOpenAI(temperature=0.0)\n",
    "prompt_template = ChatPromptTemplate.from_template(template_string)\n",
    "customer_messages = prompt_template.format_messages(\n",
    "    style=customer_style, text=customer_email\n",
    ")\n",
    "customer_response = chat(customer_messages)"
   ]
  },
  {
   "cell_type": "code",
   "execution_count": null,
   "metadata": {},
   "outputs": [],
   "source": [
    "print(prompt_template.messages[0].prompt, end=\"\\n__2__\\n\")\n",
    "print(prompt_template.messages[0].prompt.input_variables, end=\"\\n__3__\\n\")\n",
    "print(type(customer_messages), end=\"\\n__4__\\n\")\n",
    "print(type(customer_messages[0]), end=\"\\n__5__\\n\")\n",
    "print(customer_messages[0], end=\"\\n__6__\\n\")\n",
    "print(customer_messages[0].content, end=\"\\n__7__\\n\")\n",
    "print(customer_response.content)"
   ]
  },
  {
   "cell_type": "code",
   "execution_count": null,
   "metadata": {},
   "outputs": [],
   "source": [
    "# Prompting with LangChain - Outputing Dictionaries/json\n",
    "from langchain.output_parsers import ResponseSchema\n",
    "from langchain.output_parsers import StructuredOutputParser\n",
    "\n",
    "gift_schema = ResponseSchema(name=\"gift\",\n",
    "                             description=\"Was the item purchased\\\n",
    "                             as a gift for someone else? \\\n",
    "                             Answer True if yes,\\\n",
    "                             False if not or unknown.\")\n",
    "delivery_days_schema = ResponseSchema(name=\"delivery_days\",\n",
    "                                      description=\"How many days\\\n",
    "                                      did it take for the product\\\n",
    "                                      to arrive? If this \\\n",
    "                                      information is not found,\\\n",
    "                                      output -1.\")\n",
    "price_value_schema = ResponseSchema(name=\"price_value\",\n",
    "                                    description=\"Extract any\\\n",
    "                                    sentences about the value or \\\n",
    "                                    price, and output them as a \\\n",
    "                                    comma separated Python list.\")\n",
    "response_schemas = [gift_schema, \n",
    "                    delivery_days_schema,\n",
    "                    price_value_schema]\n",
    "\n",
    "# this is not clear... duplicated!\n",
    "review_template_2 = \"\"\"\\\n",
    "For the following text, extract the following information:\n",
    "\n",
    "gift: Was the item purchased as a gift for someone else? \\\n",
    "Answer True if yes, False if not or unknown.\n",
    "\n",
    "delivery_days: How many days did it take for the product\\\n",
    "to arrive? If this information is not found, output -1.\n",
    "\n",
    "price_value: Extract any sentences about the value or price,\\\n",
    "and output them as a comma separated Python list.\n",
    "\n",
    "text: {text}\n",
    "\n",
    "{format_instructions}\n",
    "\"\"\"\n",
    "\n",
    "customer_review = \"\"\"\\\n",
    "This leaf blower is pretty amazing.  It has four settings:\\\n",
    "candle blower, gentle breeze, windy city, and tornado. \\\n",
    "It arrived in two days, just in time for my wife's \\\n",
    "anniversary present. \\\n",
    "I think my wife liked it so much she was speechless. \\\n",
    "So far I've been the only one using it, and I've been \\\n",
    "using it every other morning to clear the leaves on our lawn. \\\n",
    "It's slightly more expensive than the other leaf blowers \\\n",
    "out there, but I think it's worth it for the extra features.\n",
    "\"\"\""
   ]
  },
  {
   "cell_type": "code",
   "execution_count": null,
   "metadata": {},
   "outputs": [],
   "source": [
    "output_parser = StructuredOutputParser.from_response_schemas(response_schemas)\n",
    "format_instructions = output_parser.get_format_instructions()\n",
    "\n",
    "prompt = ChatPromptTemplate.from_template(template=review_template_2)\n",
    "messages = prompt.format_messages(text=customer_review, \n",
    "                                format_instructions=format_instructions)\n",
    "response = chat(messages)\n",
    "output_dict = output_parser.parse(response.content)  # add"
   ]
  },
  {
   "cell_type": "code",
   "execution_count": null,
   "metadata": {},
   "outputs": [],
   "source": [
    "print(format_instructions, end=\"\\n__2__\\n\")\n",
    "print(messages[0].content, end=\"\\n__3__\\n\")\n",
    "print(response.content, end=\"\\n__4__\\n\")\n",
    "print(output_dict, end=\"\\n__5__\\n\")\n",
    "print(type(output_dict), end=\"\\n__6__\\n\")\n",
    "print(output_dict.get('delivery_days'), end=\"\\n__7__\\n\")\n",
    "print(output_dict)"
   ]
  },
  {
   "cell_type": "code",
   "execution_count": null,
   "metadata": {},
   "outputs": [],
   "source": [
    "# Agents with tables\n",
    "from langchain.agents import create_csv_agent\n",
    "# from langchain.agents import create_pandas_dataframe_agent  # might be the same\n",
    "# from langchain.llms import OpenAI  # without llms\n",
    "\n",
    "# # LangChain agents\n",
    "# llm = OpenAI(temperature=0)\n",
    "agent = create_csv_agent(chat, verbose=True)\n",
    "# agent = create_pandas_dataframe_agent(llm, df, verbose=True)\n",
    "# prompt = \"Make the values more readable, store the result into 'listening.csv'\"\n",
    "agent.run(customer_messages[0].content)"
   ]
  },
  {
   "cell_type": "code",
   "execution_count": null,
   "metadata": {},
   "outputs": [],
   "source": [
    "# Dealing with tables\n",
    "import pandas as pd\n",
    "import utils\n",
    "\n",
    "# Getting csv + df\n",
    "_, ws_dfs = utils.get_worksheets(\"Korea - Vocabulary (raw)\", (\"listening occurences\",))\n",
    "ws_df = ws_dfs[0]\n",
    "ws_df.to_csv(\"in.csv\", index=False)\n",
    "csv_df = pd.read_csv('in.csv', keep_default_na=False)"
   ]
  },
  {
   "cell_type": "code",
   "execution_count": null,
   "metadata": {},
   "outputs": [],
   "source": [
    "# merging occurences\n",
    "df = csv_df.reset_index()\n",
    "word_agg_f = lambda x: ' '.join(str(val) for val in x if pd.notnull(val))\n",
    "\n",
    "grouped_df = df.groupby(['Word']).agg(word_agg_f)\n",
    "grouped_df[\"index\"] = grouped_df[\"index\"].str.split().str[0].astype(int)\n",
    "sorted_df = grouped_df.sort_values(by='index')\n",
    "sorted_df = sorted_df.drop(['index'], axis=1)\n",
    "sorted_df.to_csv('listening.csv')"
   ]
  },
  {
   "cell_type": "code",
   "execution_count": null,
   "metadata": {},
   "outputs": [],
   "source": [
    "# Agents with tables\n",
    "from langchain.agents import create_csv_agent\n",
    "from langchain.agents import create_pandas_dataframe_agent  # might be the same\n",
    "from langchain.llms import OpenAI  # without llms\n",
    "\n",
    "# # LangChain agents\n",
    "# llm = OpenAI(temperature=0)\n",
    "# # agent = create_csv_agent(llm, filepath, verbose=True)\n",
    "# agent = create_pandas_dataframe_agent(llm, df, verbose=True)\n",
    "# prompt = \"Make the values more readable, store the result into 'listening.csv'\"\n",
    "# agent.run(prompt)"
   ]
  },
  {
   "cell_type": "code",
   "execution_count": null,
   "metadata": {},
   "outputs": [],
   "source": [
    "# RetrievalQA (not for me for now)\n",
    "from langchain.document_loaders.csv_loader import CSVLoader\n",
    "from langchain.indexes import VectorstoreIndexCreator\n",
    "from langchain.vectorstores import DocArrayInMemorySearch\n",
    "from langchain.chains import RetrievalQA"
   ]
  },
  {
   "cell_type": "code",
   "execution_count": null,
   "metadata": {},
   "outputs": [],
   "source": [
    "loader = CSVLoader(file_path=\"out.csv\", encoding=\"utf-8\")\n",
    "data = loader.load()\n",
    "index_creator = VectorstoreIndexCreator(vectorstore_cls=DocArrayInMemorySearch)  # without par gives error\n",
    "docsearch = index_creator.from_loaders([loader])\n",
    "chain = RetrievalQA.from_chain_type(llm=OpenAI(), chain_type=\"stuff\", retriever=docsearch.vectorstore.as_retriever(), input_key=\"question\")\n",
    "\n",
    "def ask_question(query):\n",
    "    response = chain({\"question\": query})\n",
    "    return response['result']"
   ]
  },
  {
   "cell_type": "code",
   "execution_count": null,
   "metadata": {},
   "outputs": [],
   "source": [
    "query = \"Get me country with the highest GDP.\"\n",
    "query2 = \"Create 'out22.csv', where will be 3 countries with the biggest happiness index\"\n",
    "print(ask_question(query2))"
   ]
  },
  {
   "cell_type": "code",
   "execution_count": null,
   "metadata": {},
   "outputs": [],
   "source": []
  },
  {
   "cell_type": "code",
   "execution_count": null,
   "metadata": {},
   "outputs": [],
   "source": []
  },
  {
   "cell_type": "code",
   "execution_count": null,
   "metadata": {},
   "outputs": [],
   "source": []
  },
  {
   "cell_type": "code",
   "execution_count": null,
   "metadata": {},
   "outputs": [],
   "source": []
  },
  {
   "cell_type": "code",
   "execution_count": null,
   "metadata": {},
   "outputs": [],
   "source": []
  },
  {
   "cell_type": "code",
   "execution_count": null,
   "metadata": {},
   "outputs": [],
   "source": []
  }
 ],
 "metadata": {
  "kernelspec": {
   "display_name": "Python 3",
   "language": "python",
   "name": "python3"
  },
  "language_info": {
   "codemirror_mode": {
    "name": "ipython",
    "version": 3
   },
   "file_extension": ".py",
   "mimetype": "text/x-python",
   "name": "python",
   "nbconvert_exporter": "python",
   "pygments_lexer": "ipython3",
   "version": "3.10.0"
  },
  "orig_nbformat": 4
 },
 "nbformat": 4,
 "nbformat_minor": 2
}
