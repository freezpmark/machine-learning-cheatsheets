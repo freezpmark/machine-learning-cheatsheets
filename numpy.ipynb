{
 "cells": [
  {
   "cell_type": "code",
   "execution_count": 7,
   "metadata": {},
   "outputs": [],
   "source": [
    "# Import NumPy package to load its functions (np is conventional abbreviation to use in the code)\n",
    "import numpy as np"
   ]
  },
  {
   "cell_type": "code",
   "execution_count": 24,
   "metadata": {},
   "outputs": [],
   "source": [
    "# Initializing NumPy arrays with lists\n",
    "a = np.array([1, 2, 3, 4])      # (1D) vector array (lowercase name)\n",
    "A = np.array([[2, 3],           # (2D) matrix array (uppercase name)\n",
    "              [4, 5]])\n",
    "\n",
    "# Initializing NumPy arrays with numbers\n",
    "b = np.arange(5)                # vector from 0 to 4\n",
    "c = np.arange(10, 15)           # vector from 10 to 14\n",
    "d = np.arange(15, 50, 10)       # vector from 15 to 49, with steps of 10\n",
    "e = np.linspace(0, 100, 5)      # vector 5 number values between 0 and 100\n",
    "f = np.empty(2)                 # vector declaration that needs to be initialized\n",
    "B = np.zeros((2, 3, 4))         # matrix 2x3x4 (3D) matrix with zeros\n",
    "C = np.ones((1, 2))             # matrix 1x2 (2D) matrix with ones\n",
    "X = np.random.rand(5, 5)        # matrix 5x5 (2D) with random values <0, 1) {also possible with .random_sample((5, 5))}\n",
    "Y = np.random.randn(100, 36, 36)# matrix 50x36x36 (3D) with random numbers from normal distribution"
   ]
  },
  {
   "cell_type": "code",
   "execution_count": 25,
   "metadata": {},
   "outputs": [
    {
     "name": "stdout",
     "output_type": "stream",
     "text": [
      "a = [1 2 3 4]\n",
      "A:\n",
      " [[2 3]\n",
      " [4 5]]\n",
      "b = [0 1 2 3 4]\n",
      "c = [10 11 12 13 14]\n",
      "d = [15 25 35 45]\n",
      "e = [  0.  25.  50.  75. 100.]\n",
      "f = [5.30498948e-313 9.54898106e-313]\n",
      "B:\n",
      " [[[0. 0. 0. 0.]\n",
      "  [0. 0. 0. 0.]\n",
      "  [0. 0. 0. 0.]]\n",
      "\n",
      " [[0. 0. 0. 0.]\n",
      "  [0. 0. 0. 0.]\n",
      "  [0. 0. 0. 0.]]]\n",
      "C:\n",
      " [[1. 1.]]\n",
      "X:\n",
      " [[0.80303322 0.9966477  0.90621779 0.15588185 0.63765326]\n",
      " [0.65284019 0.04907403 0.41967045 0.05768107 0.0086931 ]\n",
      " [0.5268297  0.1578474  0.29092666 0.91350119 0.78645782]\n",
      " [0.78317039 0.32249032 0.1883739  0.61834133 0.55638049]\n",
      " [0.53646495 0.5948954  0.01985678 0.64010819 0.27493903]]\n",
      "Y:\n",
      " [[[ 0.03574884  0.19990983 -0.65079233 ... -0.75544238 -1.50027201\n",
      "    0.63617042]\n",
      "  [ 1.89985162  0.67686225 -0.40883109 ... -1.11421598 -0.23690503\n",
      "    0.76141468]\n",
      "  [ 1.65975821 -0.44350185 -0.94716591 ...  0.38733201 -1.22535593\n",
      "   -0.41050251]\n",
      "  ...\n",
      "  [ 2.37306546  0.36197979  0.01275186 ...  1.54771014  1.39848869\n",
      "   -0.4986556 ]\n",
      "  [-0.83704265 -2.15219271  1.03153794 ... -1.14431323 -0.8475025\n",
      "   -1.71848983]\n",
      "  [ 0.01385479  0.95882802 -2.50792904 ... -1.0038789  -0.20783545\n",
      "    1.34844973]]\n",
      "\n",
      " [[ 0.36994242  0.41452841 -0.20991822 ...  2.77958077  0.10693202\n",
      "    1.50880627]\n",
      "  [ 1.26671665  1.62186062 -0.95171841 ...  0.04376253  1.54064887\n",
      "    1.3627819 ]\n",
      "  [-1.19421618 -0.28229985  0.84721176 ...  0.89195383  1.14335274\n",
      "   -0.43345386]\n",
      "  ...\n",
      "  [-1.4179779   0.16522244  0.46555472 ... -0.11412097 -0.40121477\n",
      "   -0.20838186]\n",
      "  [-0.30342724  0.5491214   0.84696929 ...  1.0456834   0.04582315\n",
      "    1.98686568]\n",
      "  [ 0.39955612  0.8167554   1.21156234 ...  1.04837615  0.48434243\n",
      "   -0.08942579]]\n",
      "\n",
      " [[-0.98444697 -0.31547366  0.04996374 ... -0.31864573 -0.51481185\n",
      "    0.2552333 ]\n",
      "  [ 0.26002471 -0.28090853 -0.4295181  ... -1.498126    0.26690614\n",
      "    0.31044588]\n",
      "  [ 0.06527258 -1.72900926  0.33842068 ...  0.18476373 -0.81617808\n",
      "    1.11164241]\n",
      "  ...\n",
      "  [-0.86957753  0.18783083 -1.9336575  ... -1.12433516 -0.53669173\n",
      "   -0.8564795 ]\n",
      "  [-0.42093867  0.65972193 -2.13161202 ...  0.5249665  -1.57908476\n",
      "    1.55887743]\n",
      "  [ 1.05693338  0.36012618 -0.20327392 ... -0.47477588 -0.58067817\n",
      "    1.13116638]]\n",
      "\n",
      " ...\n",
      "\n",
      " [[ 0.28355738  0.26054319 -1.17295185 ... -0.39023593  0.63755196\n",
      "    0.7084293 ]\n",
      "  [-1.10907909 -0.91634429 -1.02413829 ... -0.08434989 -2.82631337\n",
      "   -0.51875779]\n",
      "  [-0.51545159 -0.00882316  1.21620768 ...  1.87214534 -0.80800767\n",
      "   -0.23124958]\n",
      "  ...\n",
      "  [-0.04392259 -0.41650384  0.41169872 ... -0.54570256  1.31353209\n",
      "   -1.19498281]\n",
      "  [-1.5837834  -0.66793759 -0.20966335 ... -0.56464244  0.43497252\n",
      "   -1.61110655]\n",
      "  [-1.0189094  -0.90412003 -0.41310841 ...  1.31036471  1.69136401\n",
      "    1.27580411]]\n",
      "\n",
      " [[-0.23734806  0.97468449  0.07373265 ...  0.18121679  0.39791025\n",
      "    0.2215536 ]\n",
      "  [ 0.36453901 -0.89288764  1.40564235 ... -0.4599493  -1.00230406\n",
      "   -0.49650773]\n",
      "  [-0.54718892 -0.6499634  -0.87668918 ... -0.67350208 -0.74498217\n",
      "    1.69319406]\n",
      "  ...\n",
      "  [-0.44789012  0.5655435   1.41005182 ...  0.23629346 -0.47094152\n",
      "    1.82762179]\n",
      "  [ 0.39166138  0.41492957 -0.02304208 ... -0.63931129 -0.82684633\n",
      "   -0.07882002]\n",
      "  [-2.12252301  0.62791857  0.37224707 ... -1.37411177 -0.72557831\n",
      "    0.78500702]]\n",
      "\n",
      " [[-1.36096412  0.19451379  0.18012112 ...  1.2117673  -1.17673521\n",
      "    1.32860693]\n",
      "  [ 0.66865939  2.94523859  0.27234265 ... -2.06907606 -1.50900488\n",
      "    0.69159568]\n",
      "  [-0.41147113  0.09100884 -0.15654936 ... -0.12616062 -2.53134818\n",
      "   -0.1597411 ]\n",
      "  ...\n",
      "  [-0.69747957  1.24989681  0.66516892 ... -0.70996822  0.13406366\n",
      "   -0.02756746]\n",
      "  [ 0.67537415  1.06747523 -1.89797289 ... -0.38359209  0.2112694\n",
      "    0.37628638]\n",
      "  [ 0.18844666 -0.36786726  0.51672691 ... -2.02986968  0.6355723\n",
      "   -0.99983372]]]\n"
     ]
    }
   ],
   "source": [
    "print(\"a =\", a); print(\"A:\\n\", A); print(\"b =\", b); print(\"c =\", c); print(\"d =\", d); print(\"e =\", e); \n",
    "print(\"f =\", f); print(\"B:\\n\", B); print(\"C:\\n\", C); print(\"X:\\n\", X); print(\"Y:\\n\", Y)"
   ]
  },
  {
   "cell_type": "code",
   "execution_count": 26,
   "metadata": {},
   "outputs": [],
   "source": [
    "# Displaying properties of NumPy arrays (shape, ndim, size)\n",
    "B = np.zeros((2, 3, 4))\n",
    "B_shape = B.shape   # length of each dimensions - shape of array\n",
    "B_ndim = B.ndim     # amount of array dimensions\n",
    "B_size = B.size     # amount of values in array"
   ]
  },
  {
   "cell_type": "code",
   "execution_count": 27,
   "metadata": {},
   "outputs": [
    {
     "name": "stdout",
     "output_type": "stream",
     "text": [
      "B_shape = (2, 3, 4)\n",
      "B_ndim = 3\n",
      "B_size = 24\n"
     ]
    }
   ],
   "source": [
    "print(\"B_shape =\", B_shape); print(\"B_ndim =\", B_ndim); print(\"B_size =\", B_size)"
   ]
  },
  {
   "cell_type": "code",
   "execution_count": 28,
   "metadata": {},
   "outputs": [],
   "source": [
    "# Transforming functions of NumPy arrays (transpose, reshape)\n",
    "Y = np.random.randn(2, 2, 3)\n",
    "Y_transposed = np.transpose(Y)          # transposes Y - reverses the axes of an array\n",
    "Y_transposed = Y.transpose()            # does the same, anytime we use np. with matrix parameters, it can also call it from the first matrix passed\n",
    "Y_reshaped = np.reshape(Y, (2, 2 * 3))  # reshapes dimensions from 2x3x2 matrix to 2x6 \n",
    "Y_reshaped = Y.reshape(-1, 2 * 3)       # does the same, -1 lets NumPy calculate the shape length based on the remaining number of elements"
   ]
  },
  {
   "cell_type": "code",
   "execution_count": 29,
   "metadata": {},
   "outputs": [
    {
     "name": "stdout",
     "output_type": "stream",
     "text": [
      "Y.shape = (2, 2, 3)\n",
      "Y:\n",
      " [[[ 0.52066516 -0.04203309  1.16368607]\n",
      "  [ 0.9158253  -0.04411083 -0.7497031 ]]\n",
      "\n",
      " [[-0.04607756 -0.42579146 -0.07504343]\n",
      "  [-1.45624242 -0.12849333 -0.27375883]]]\n",
      "Y_transposed.shape (3, 2, 2)\n",
      "Y_transposed:\n",
      " [[[ 0.52066516 -0.04607756]\n",
      "  [ 0.9158253  -1.45624242]]\n",
      "\n",
      " [[-0.04203309 -0.42579146]\n",
      "  [-0.04411083 -0.12849333]]\n",
      "\n",
      " [[ 1.16368607 -0.07504343]\n",
      "  [-0.7497031  -0.27375883]]]\n",
      "Y_reshaped.shape (2, 6)\n",
      "Y_reshaped:\n",
      " [[ 0.52066516 -0.04203309  1.16368607  0.9158253  -0.04411083 -0.7497031 ]\n",
      " [-0.04607756 -0.42579146 -0.07504343 -1.45624242 -0.12849333 -0.27375883]]\n"
     ]
    }
   ],
   "source": [
    "print(\"Y.shape =\", Y.shape); print(\"Y:\\n\", Y); print(\"Y_transposed.shape\", Y_transposed.shape); print(\"Y_transposed:\\n\", Y_transposed); \n",
    "print(\"Y_reshaped.shape\", Y_reshaped.shape); print(\"Y_reshaped:\\n\", Y_reshaped)"
   ]
  },
  {
   "cell_type": "code",
   "execution_count": 30,
   "metadata": {},
   "outputs": [],
   "source": [
    "# Computing functions over axises in NumPy arrays (sum/mean/exp etc.)\n",
    "X = np.array([[1, 3, 5, 7],\n",
    "              [6, 7, 3, 1],\n",
    "              [1, 4, 5, 1]])\n",
    "X_sum = np.sum(X, axis=0)       # sum out of elements inside of 1. array: (1,6,1)(3,7,4)(5,3,5)(7,1,1) [columns]\n",
    "\n",
    "Z = np.array([[[2, 4, 6],\n",
    "               [1, 2, 3]],\n",
    "\n",
    "              [[4, 6, 8],\n",
    "               [7, 8, 9]]])\n",
    "Z_mean_0 = np.mean(Z, axis=0)   # compute means out of elements inside of 1. array - 1. row uses: (2,4)(4,6)(6,8)  [1on1 outside]\n",
    "Z_mean_1 = np.mean(Z, axis=1)   # compute means out of elements inside of 2. array - 1. row uses: (2,1)(4,2),(6,3) [columns]\n",
    "Z_mean_2 = Z.mean(axis=2)       # compute means out of elements inside of 3. array - 1. row uses: (2,4,6)(1,2,3)   [rows]"
   ]
  },
  {
   "cell_type": "code",
   "execution_count": 31,
   "metadata": {},
   "outputs": [
    {
     "name": "stdout",
     "output_type": "stream",
     "text": [
      "X_sum [ 8 14 13  9]\n",
      "Z_mean_0:\n",
      " [[3. 5. 7.]\n",
      " [4. 5. 6.]]\n",
      "Z_mean_1:\n",
      " [[1.5 3.  4.5]\n",
      " [5.5 7.  8.5]]\n",
      "Z_mean_2:\n",
      " [[4. 2.]\n",
      " [6. 8.]]\n"
     ]
    }
   ],
   "source": [
    "print(\"X_sum\", X_sum); print(\"Z_mean_0:\\n\", Z_mean_0)\n",
    "print(\"Z_mean_1:\\n\", Z_mean_1); print(\"Z_mean_2:\\n\", Z_mean_2)"
   ]
  },
  {
   "cell_type": "code",
   "execution_count": 32,
   "metadata": {},
   "outputs": [],
   "source": [
    "# Arithmetic element wise operations with vectors\n",
    "a1 = np.array([9, 8, 7, 6])\n",
    "a2 = np.array([1, 2, 3, 4])\n",
    "a_added = a1 + a2   # adding (np.add - has more parameters for adding)\n",
    "a_subtr = a1 - a2   # subtracting (np.subtract)\n",
    "a_multi = a1 * a2   # multiplication (np.multiply)\n",
    "a_divid = a1 / a2   # division (np.divide)\n",
    "\n",
    "# Vectorization with np. vs Python loops)\n",
    "# ELEMENT WISE MULTIPLICATION\n",
    "a_multi = np.multiply(a1,a2)    # [9*1, 8*2, 7*3, 8*4]\n",
    "a_multi = np.zeros(len(a1))\n",
    "for i in range(len(a1)):\n",
    "    a_multi[i] = a1[i] * a2[i]\n",
    "\n",
    "# DOT PRODUCT\n",
    "a_dot = np.dot(a1,a2)           # 9*1 + 8*2 + 7*3 + 6*4\n",
    "a_dot = 0\n",
    "for i in range(len(a1)):\n",
    "    a_dot += a1[i] * a2[i]\n",
    "\n",
    "# OUTER PRODUCT\n",
    "a_outer = np.outer(a1,a2)       # [[9*1, 9*2, 9*3, 9*4], [8*1, 8*2 …], … ]\n",
    "a_outer = np.zeros((len(a1),len(a2)))\n",
    "for i in range(len(a1)):\n",
    "    for j in range(len(a2)):\n",
    "        a_outer[i,j] = a1[i] * a2[j]\n"
   ]
  },
  {
   "cell_type": "code",
   "execution_count": 33,
   "metadata": {},
   "outputs": [
    {
     "name": "stdout",
     "output_type": "stream",
     "text": [
      "a_added = [10 10 10 10]\n",
      "a_subtr = [8 6 4 2]\n",
      "a_multi = [ 9. 16. 21. 24.]\n",
      "a_divid = [9.         4.         2.33333333 1.5       ]\n",
      "a_multi = [ 9. 16. 21. 24.]\n",
      "a_dot = 70\n",
      "a_outer:\n",
      " [[ 9. 18. 27. 36.]\n",
      " [ 8. 16. 24. 32.]\n",
      " [ 7. 14. 21. 28.]\n",
      " [ 6. 12. 18. 24.]]\n"
     ]
    }
   ],
   "source": [
    "print(\"a_added =\", a_added); print(\"a_subtr =\", a_subtr); print(\"a_multi =\", a_multi); print(\"a_divid =\", a_divid);\n",
    "print(\"a_multi =\", a_multi); print(\"a_dot =\", a_dot); print(\"a_outer:\\n\", a_outer)"
   ]
  },
  {
   "cell_type": "code",
   "execution_count": 34,
   "metadata": {},
   "outputs": [],
   "source": [
    "# Arithmetic operations with matrix and vector (multiplication and dot product)\n",
    "a1 = np.array([1, 2, 3, 4])\n",
    "A1 = np.array([[1, 2, 3, 4],\n",
    "               [5, 6, 7, 8]])\n",
    "\n",
    "Aa_multi = np.multiply(A1, a1)  # [[1*1, 2*2, 3*3, 4*4], [1*5, 1*6, 1*7, 1*8]]\n",
    "Aa_dot = np.dot(A1, a1)         # [1*1 + 2*2 + 3*3 + 4*4, 5*1 + 6*2 + 7*3 + 8*4]\n",
    "Aa_dot = np.zeros(A1.shape[0])\n",
    "for i in range(len(A1)):\n",
    "    for j in range(len(a1)):\n",
    "        Aa_dot[i] += A1[i,j] * a1[j]\n",
    "\n",
    "# Arithmetic operations with matrices (multiplication and dot product)\n",
    "A2 = np.array([[4, 6],\n",
    "               [3, 5],\n",
    "               [2, 4],\n",
    "               [1, 3]])\n",
    "A11_multi = np.multiply(A1, A2.T)   # we need to transpose A2 to match the array shapes \n",
    "                                    # [[1*4, 2*3, 3*2, 4*1], [5*6, 6*5, 7*4, 8*3]]\n",
    "A12_dot = np.dot(A1, A2)            # multiplying AxB * BxC shaped matrices (4x3 * 3x1) \n",
    "                                    # [[1*4 + 2*3 + 3*2 + 4*1, 1*6 + 2*5 + 3*4 + 4*3],\n",
    "                                    #  [5*4 + 6*3 + 7*2 + 8*1, 5*6 + 6*5 + 7*4 + 8*3]]"
   ]
  },
  {
   "cell_type": "code",
   "execution_count": 35,
   "metadata": {},
   "outputs": [
    {
     "name": "stdout",
     "output_type": "stream",
     "text": [
      "Aa_multi:\n",
      " [[ 1  4  9 16]\n",
      " [ 5 12 21 32]]\n",
      "Aa_dot = [30. 70.]\n",
      "A11_multi:\n",
      " [[ 4  6  6  4]\n",
      " [30 30 28 24]]\n",
      "A12_dot:\n",
      " [[ 20  40]\n",
      " [ 60 112]]\n"
     ]
    }
   ],
   "source": [
    "print(\"Aa_multi:\\n\", Aa_multi); print(\"Aa_dot =\", Aa_dot); \n",
    "print(\"A11_multi:\\n\", A11_multi); print(\"A12_dot:\\n\", A12_dot)"
   ]
  },
  {
   "cell_type": "code",
   "execution_count": 38,
   "metadata": {},
   "outputs": [],
   "source": [
    "# np.dot alternatives: @ and np.matmul in which the differences are:\n",
    "# 1: Multiplication by scalars is not allowed -> use *\n",
    "# 2: Stacks of matrices are broadcast together as if the matrices were elements.\n",
    "#    (acts differently when we're dealing with 3D or higher dim. matrices)\n",
    "# difference between matmul and @: matmul has additional parameters and works with lists\n",
    "# https://stackoverflow.com/questions/34142485/difference-between-numpy-dot-and-python-3-5-matrix-multiplication\n",
    "# https://mkang32.github.io/python/2020/08/30/numpy-matmul.html\n",
    "\n",
    "# dot vs @ example. Dot uses [2, 4] vector with all vectors, whereas @ multiplies them only with the corresponding matrix\n",
    "a_3D = np.array([[[2, 4],\n",
    "                  [1, 2]],\n",
    "                 [[4, 6],\n",
    "                  [7, 8]]])\n",
    "b_3D = np.array([[[2, 4],\n",
    "                  [1, 2]],\n",
    "                 [[4, 6],\n",
    "                  [7, 8]]])\n",
    "ab_dot = np.dot(a_3D, a_3D)   # [[[[2*2 + 4*1, 2*4 + 4*2], [2*4 + 4*7, 2*6 + 4*8]], [1*2 + 2*1, 1*4 + 2*2] ...\n",
    "ab_at = a_3D @ a_3D           # [[[2*2 + 4*1, 2*4 + 4*2], [1*2 + 2*1, 1*4 + 2*2]], [4*4 + 6*7, 4*6 + 6*8], [7*4 + 8*7, 7*6 + 8*8]]\n"
   ]
  },
  {
   "cell_type": "code",
   "execution_count": 39,
   "metadata": {},
   "outputs": [
    {
     "name": "stdout",
     "output_type": "stream",
     "text": [
      "ab_dot:\n",
      " [[[[  8  16]\n",
      "   [ 36  44]]\n",
      "\n",
      "  [[  4   8]\n",
      "   [ 18  22]]]\n",
      "\n",
      "\n",
      " [[[ 14  28]\n",
      "   [ 58  72]]\n",
      "\n",
      "  [[ 22  44]\n",
      "   [ 84 106]]]]\n",
      "ab_at:\n",
      " [[[  8  16]\n",
      "  [  4   8]]\n",
      "\n",
      " [[ 58  72]\n",
      "  [ 84 106]]]\n"
     ]
    }
   ],
   "source": [
    "print(\"ab_dot:\\n\", ab_dot); print(\"ab_at:\\n\", ab_at)"
   ]
  },
  {
   "cell_type": "code",
   "execution_count": 40,
   "metadata": {},
   "outputs": [],
   "source": [
    "# Index referencing (getting element or sublist of elements from the array)\n",
    "a = np.array([1, 2, 3, 4, 5])\n",
    "one = a[0]          # gets the 1. element from the vector\n",
    "three = a[2]        # gets the 3. element from the vector\n",
    "\n",
    "A = np.array([[1, 2, 3],\n",
    "              [4, 5, 6], \n",
    "              [7, 8, 9]])\n",
    "row_0 = A[0]        # gets 1. row from 2D matrix\n",
    "eight = A[2][1]     # gets number 8 from 2D matrix\n",
    "eight = A[2, 1]     # does the same\n",
    "\n",
    "idx = [0, 2]        # saving vector as index reference in a variable\n",
    "A_idxed = A[idx]    # gets first and last row from 2D matrix\n",
    "\n",
    "# Slicing\n",
    "a_sub = a[1:4]      # gets all elements except for the first and last one\n",
    "a_sub = a[1:-1]     # does the same, -1 is the last element\n",
    "A_sub = A[0:2]      # gets first two rows from 2D matrix\n",
    "A_sub = A[:2]       # does the same\n",
    "A_sub_rows = A[1:4] # gets last two rows\n",
    "A_sub_cols = A[:, 1]# gets all rows' second element\n",
    "\n",
    "B = np.array([[[1,2,3], [2,3,4], [4,5,6]],\n",
    "              [[2,3,4], [6,5,4], [4,3,2]]])\n",
    "B_sub_step = B[::, ::, ::2] # gets first and last element in the vectors"
   ]
  },
  {
   "cell_type": "code",
   "execution_count": 41,
   "metadata": {},
   "outputs": [
    {
     "name": "stdout",
     "output_type": "stream",
     "text": [
      "one = 1\n",
      "three = 3\n",
      "row_0 = [1 2 3]\n",
      "eight = 8\n",
      "a_sub = [2 3 4]\n",
      "A_sub:\n",
      " [[1 2 3]\n",
      " [4 5 6]]\n",
      "A_sub_rows:\n",
      " [[4 5 6]\n",
      " [7 8 9]]\n",
      "A_sub_cols = [2 5 8]\n",
      "B_sub_step:\n",
      " [[[1 3]\n",
      "  [2 4]\n",
      "  [4 6]]\n",
      "\n",
      " [[2 4]\n",
      "  [6 4]\n",
      "  [4 2]]]\n"
     ]
    }
   ],
   "source": [
    "print(\"one =\", one); print(\"three =\", three); print(\"row_0 =\", row_0); print(\"eight =\", eight)\n",
    "print(\"a_sub =\", a_sub); print(\"A_sub:\\n\", A_sub); print(\"A_sub_rows:\\n\", A_sub_rows); print(\"A_sub_cols =\", A_sub_cols)\n",
    "print(\"B_sub_step:\\n\", B_sub_step)"
   ]
  },
  {
   "cell_type": "code",
   "execution_count": 42,
   "metadata": {},
   "outputs": [],
   "source": [
    "# Copying and Broadcasting (treating arrays with different shapes during arithmetic operations)\n",
    "X1 = np.array([[2, 3, 4],\n",
    "               [3, 5, 8],\n",
    "               [9, 8, 0]])\n",
    "X2 = np.copy(X1)\n",
    "X2[:] = 1   # sets all values to 1\n",
    "\n",
    "X3 = X2.copy()\n",
    "X3[0] = 0   # sets all values in the first row to 0\n",
    "\n",
    "X4 = X3 * 2 # multipling matrix with a scalar (Python list would just duplicate the values)"
   ]
  },
  {
   "cell_type": "code",
   "execution_count": 43,
   "metadata": {},
   "outputs": [
    {
     "name": "stdout",
     "output_type": "stream",
     "text": [
      "X1:\n",
      " [[2 3 4]\n",
      " [3 5 8]\n",
      " [9 8 0]]\n",
      "X2:\n",
      " [[1 1 1]\n",
      " [1 1 1]\n",
      " [1 1 1]]\n",
      "X3:\n",
      " [[0 0 0]\n",
      " [1 1 1]\n",
      " [1 1 1]]\n",
      "X4:\n",
      " [[0 0 0]\n",
      " [2 2 2]\n",
      " [2 2 2]]\n"
     ]
    }
   ],
   "source": [
    "print(\"X1:\\n\", X1); print(\"X2:\\n\", X2); print(\"X3:\\n\", X3); print(\"X4:\\n\", X4)"
   ]
  },
  {
   "cell_type": "code",
   "execution_count": 44,
   "metadata": {},
   "outputs": [],
   "source": [
    "# Types and conversions\n",
    "A1 = np.zeros((3, 3))\n",
    "\n",
    "A2 = A1.copy()\n",
    "A2 = A2.astype('bool')  # conversion into bool type\n",
    "\n",
    "A3_idx = A2.copy()      # creating matrix for index reference\n",
    "A3_idx[0, 2] = True\n",
    "A3_idx[1][0] = True\n",
    "A3_idx[2] = True\n",
    "\n",
    "X1 = np.array([[0, 0, 0],\n",
    "              [0, 0, 8],\n",
    "              [0, 1, 2]])\n",
    "X1[A3_idx] = 300    # broadcasting using fully sized matrix as index reference \n",
    "\n",
    "# Conditioned filtering\n",
    "X2 = X1.copy()\n",
    "zeros_idx = X2 == 0     # get all 0 values\n",
    "X2[zeros_idx] = 10      # set them to 10\n",
    "\n",
    "# NumPy arrays contain only one type of variables. If there are more, it will be converted into string.\n",
    "# If there are numbers and there’s also bool value, it’s going to be changed into a number. \n",
    "# Conversion priorities: string > int > bool\n",
    "X_dtype = X.dtype"
   ]
  },
  {
   "cell_type": "code",
   "execution_count": 45,
   "metadata": {},
   "outputs": [
    {
     "name": "stdout",
     "output_type": "stream",
     "text": [
      "A1:\n",
      " [[0. 0. 0.]\n",
      " [0. 0. 0.]\n",
      " [0. 0. 0.]]\n",
      "A2:\n",
      " [[False False False]\n",
      " [False False False]\n",
      " [False False False]]\n",
      "A3_idx:\n",
      " [[False False  True]\n",
      " [ True False False]\n",
      " [ True  True  True]]\n",
      "X1:\n",
      " [[  0   0 300]\n",
      " [300   0   8]\n",
      " [300 300 300]]\n",
      "X2:\n",
      " [[ 10  10 300]\n",
      " [300  10   8]\n",
      " [300 300 300]]\n",
      "X_dtype = int32\n"
     ]
    }
   ],
   "source": [
    "print(\"A1:\\n\", A1); print(\"A2:\\n\", A2); print(\"A3_idx:\\n\", A3_idx)\n",
    "print(\"X1:\\n\", X1); print(\"X2:\\n\", X2); print(\"X_dtype =\", X_dtype)"
   ]
  },
  {
   "cell_type": "code",
   "execution_count": 46,
   "metadata": {},
   "outputs": [],
   "source": [
    "# Stacking\n",
    "a1 = np.array([[1,1], \n",
    "               [2,2]])\n",
    "a2 = np.array([[3,3],\n",
    "               [4,4]])\n",
    "v_stack = np.vstack((a1, a2))   # joins arrays vertically, with a1 on the top\n",
    "h_stack = np.hstack((a1, a2))\t# joins arrays horizontally, with a1 on the left"
   ]
  },
  {
   "cell_type": "code",
   "execution_count": null,
   "metadata": {},
   "outputs": [],
   "source": [
    "# TODO\n",
    "# hsplit - splits an array into several smaller arrays\n",
    "\n",
    "\n",
    "# Solving linear systems\n",
    "A = np.array([[-1, 3],\n",
    "              [3, 2]])\n",
    "b = np.array([7, 1])\n",
    "x = np.linalg.solve(A, b)\t# [-1. 2.]\n",
    "d = np.linalg.det(A)        # -11\n",
    "b_norm = np.linalg.norm(b)\n",
    "# Eigen Vectors..!"
   ]
  },
  {
   "cell_type": "code",
   "execution_count": null,
   "metadata": {},
   "outputs": [],
   "source": []
  }
 ],
 "metadata": {
  "kernelspec": {
   "display_name": "venv",
   "language": "python",
   "name": "python3"
  },
  "language_info": {
   "codemirror_mode": {
    "name": "ipython",
    "version": 3
   },
   "file_extension": ".py",
   "mimetype": "text/x-python",
   "name": "python",
   "nbconvert_exporter": "python",
   "pygments_lexer": "ipython3",
   "version": "3.10.0"
  },
  "orig_nbformat": 4,
  "vscode": {
   "interpreter": {
    "hash": "6af92b0a5047c9a79dfbfa849c59507eeca405c0d9f89ccc533af7543810c82d"
   }
  }
 },
 "nbformat": 4,
 "nbformat_minor": 2
}
